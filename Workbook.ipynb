{
 "cells": [
  {
   "cell_type": "code",
   "execution_count": 2,
   "metadata": {
    "collapsed": true
   },
   "outputs": [],
   "source": [
    "import pandas as pd\n",
    "import numpy as np\n",
    "import seaborn as sns"
   ]
  },
  {
   "cell_type": "code",
   "execution_count": 154,
   "metadata": {},
   "outputs": [
    {
     "data": {
      "text/html": [
       "<div>\n",
       "<style>\n",
       "    .dataframe thead tr:only-child th {\n",
       "        text-align: right;\n",
       "    }\n",
       "\n",
       "    .dataframe thead th {\n",
       "        text-align: left;\n",
       "    }\n",
       "\n",
       "    .dataframe tbody tr th {\n",
       "        vertical-align: top;\n",
       "    }\n",
       "</style>\n",
       "<table border=\"1\" class=\"dataframe\">\n",
       "  <thead>\n",
       "    <tr style=\"text-align: right;\">\n",
       "      <th></th>\n",
       "      <th>trip_id</th>\n",
       "      <th>stop_id</th>\n",
       "      <th>stop_sequence</th>\n",
       "      <th>arrival_time</th>\n",
       "      <th>departure_time</th>\n",
       "      <th>stop_headsign</th>\n",
       "      <th>pickup_type</th>\n",
       "      <th>drop_off_type</th>\n",
       "      <th>shape_dist_traveled</th>\n",
       "      <th>timepoint</th>\n",
       "    </tr>\n",
       "  </thead>\n",
       "  <tbody>\n",
       "    <tr>\n",
       "      <th>0</th>\n",
       "      <td>Logan-22-Weekday-trip</td>\n",
       "      <td>Logan-Subway</td>\n",
       "      <td>1</td>\n",
       "      <td>08:00:00</td>\n",
       "      <td>08:00:00</td>\n",
       "      <td>NaN</td>\n",
       "      <td>0</td>\n",
       "      <td>1</td>\n",
       "      <td>NaN</td>\n",
       "      <td>1.0</td>\n",
       "    </tr>\n",
       "    <tr>\n",
       "      <th>1</th>\n",
       "      <td>Logan-22-Weekday-trip</td>\n",
       "      <td>Logan-RentalCarCenter</td>\n",
       "      <td>2</td>\n",
       "      <td>08:04:00</td>\n",
       "      <td>08:04:00</td>\n",
       "      <td>NaN</td>\n",
       "      <td>0</td>\n",
       "      <td>0</td>\n",
       "      <td>NaN</td>\n",
       "      <td>1.0</td>\n",
       "    </tr>\n",
       "    <tr>\n",
       "      <th>2</th>\n",
       "      <td>Logan-22-Weekday-trip</td>\n",
       "      <td>Logan-A</td>\n",
       "      <td>3</td>\n",
       "      <td>08:09:00</td>\n",
       "      <td>08:09:00</td>\n",
       "      <td>NaN</td>\n",
       "      <td>0</td>\n",
       "      <td>0</td>\n",
       "      <td>NaN</td>\n",
       "      <td>1.0</td>\n",
       "    </tr>\n",
       "    <tr>\n",
       "      <th>3</th>\n",
       "      <td>Logan-22-Weekday-trip</td>\n",
       "      <td>Logan-B</td>\n",
       "      <td>4</td>\n",
       "      <td>08:12:00</td>\n",
       "      <td>08:12:00</td>\n",
       "      <td>NaN</td>\n",
       "      <td>0</td>\n",
       "      <td>0</td>\n",
       "      <td>NaN</td>\n",
       "      <td>1.0</td>\n",
       "    </tr>\n",
       "    <tr>\n",
       "      <th>4</th>\n",
       "      <td>Logan-22-Weekday-trip</td>\n",
       "      <td>Logan-Subway</td>\n",
       "      <td>5</td>\n",
       "      <td>08:17:00</td>\n",
       "      <td>08:17:00</td>\n",
       "      <td>NaN</td>\n",
       "      <td>1</td>\n",
       "      <td>0</td>\n",
       "      <td>NaN</td>\n",
       "      <td>1.0</td>\n",
       "    </tr>\n",
       "  </tbody>\n",
       "</table>\n",
       "</div>"
      ],
      "text/plain": [
       "                 trip_id                stop_id  stop_sequence arrival_time  \\\n",
       "0  Logan-22-Weekday-trip           Logan-Subway              1     08:00:00   \n",
       "1  Logan-22-Weekday-trip  Logan-RentalCarCenter              2     08:04:00   \n",
       "2  Logan-22-Weekday-trip                Logan-A              3     08:09:00   \n",
       "3  Logan-22-Weekday-trip                Logan-B              4     08:12:00   \n",
       "4  Logan-22-Weekday-trip           Logan-Subway              5     08:17:00   \n",
       "\n",
       "  departure_time  stop_headsign  pickup_type  drop_off_type  \\\n",
       "0       08:00:00            NaN            0              1   \n",
       "1       08:04:00            NaN            0              0   \n",
       "2       08:09:00            NaN            0              0   \n",
       "3       08:12:00            NaN            0              0   \n",
       "4       08:17:00            NaN            1              0   \n",
       "\n",
       "   shape_dist_traveled  timepoint  \n",
       "0                  NaN        1.0  \n",
       "1                  NaN        1.0  \n",
       "2                  NaN        1.0  \n",
       "3                  NaN        1.0  \n",
       "4                  NaN        1.0  "
      ]
     },
     "execution_count": 154,
     "metadata": {},
     "output_type": "execute_result"
    }
   ],
   "source": [
    "trips = pd.read_csv('../CSVs/trips.csv', low_memory=False)\n",
    "trip_updates = pd.read_csv('../CSVs/trip_updates.csv', low_memory=False)\n",
    "vehicle_pos = pd.read_csv('../CSVs/vehicle_positions.csv', low_memory=False)\n",
    "stop_times = pd.read_csv('../CSVs/stop_times.csv', dtype={'trip_id': str, 'stop_id': str})\n",
    "stop_times.head()"
   ]
  },
  {
   "cell_type": "code",
   "execution_count": 155,
   "metadata": {},
   "outputs": [
    {
     "data": {
      "text/html": [
       "<div>\n",
       "<style>\n",
       "    .dataframe thead tr:only-child th {\n",
       "        text-align: right;\n",
       "    }\n",
       "\n",
       "    .dataframe thead th {\n",
       "        text-align: left;\n",
       "    }\n",
       "\n",
       "    .dataframe tbody tr th {\n",
       "        vertical-align: top;\n",
       "    }\n",
       "</style>\n",
       "<table border=\"1\" class=\"dataframe\">\n",
       "  <thead>\n",
       "    <tr style=\"text-align: right;\">\n",
       "      <th></th>\n",
       "      <th>trip_id</th>\n",
       "      <th>route_id</th>\n",
       "      <th>service_id</th>\n",
       "      <th>direction_id</th>\n",
       "      <th>block_id</th>\n",
       "      <th>shape_id</th>\n",
       "      <th>trip_type</th>\n",
       "      <th>trip_headsign</th>\n",
       "      <th>trip_short_name</th>\n",
       "      <th>bikes_allowed</th>\n",
       "      <th>wheelchair_accessible</th>\n",
       "    </tr>\n",
       "  </thead>\n",
       "  <tbody>\n",
       "    <tr>\n",
       "      <th>0</th>\n",
       "      <td>Logan-22-Weekday-trip</td>\n",
       "      <td>Logan-22</td>\n",
       "      <td>Logan-Weekday</td>\n",
       "      <td>0</td>\n",
       "      <td>NaN</td>\n",
       "      <td>NaN</td>\n",
       "      <td>NaN</td>\n",
       "      <td>Loop</td>\n",
       "      <td>NaN</td>\n",
       "      <td>0</td>\n",
       "      <td>1</td>\n",
       "    </tr>\n",
       "    <tr>\n",
       "      <th>1</th>\n",
       "      <td>Logan-22-Weekend-trip</td>\n",
       "      <td>Logan-22</td>\n",
       "      <td>Logan-Weekend</td>\n",
       "      <td>0</td>\n",
       "      <td>NaN</td>\n",
       "      <td>NaN</td>\n",
       "      <td>NaN</td>\n",
       "      <td>Loop</td>\n",
       "      <td>NaN</td>\n",
       "      <td>0</td>\n",
       "      <td>1</td>\n",
       "    </tr>\n",
       "    <tr>\n",
       "      <th>2</th>\n",
       "      <td>Logan-33-Weekday-trip</td>\n",
       "      <td>Logan-33</td>\n",
       "      <td>Logan-Weekday</td>\n",
       "      <td>0</td>\n",
       "      <td>NaN</td>\n",
       "      <td>NaN</td>\n",
       "      <td>NaN</td>\n",
       "      <td>Loop</td>\n",
       "      <td>NaN</td>\n",
       "      <td>0</td>\n",
       "      <td>1</td>\n",
       "    </tr>\n",
       "    <tr>\n",
       "      <th>3</th>\n",
       "      <td>Logan-33-Weekend-trip</td>\n",
       "      <td>Logan-33</td>\n",
       "      <td>Logan-Weekend</td>\n",
       "      <td>0</td>\n",
       "      <td>NaN</td>\n",
       "      <td>NaN</td>\n",
       "      <td>NaN</td>\n",
       "      <td>Loop</td>\n",
       "      <td>NaN</td>\n",
       "      <td>0</td>\n",
       "      <td>1</td>\n",
       "    </tr>\n",
       "    <tr>\n",
       "      <th>4</th>\n",
       "      <td>Logan-55-Weekday-trip</td>\n",
       "      <td>Logan-55</td>\n",
       "      <td>Logan-Weekday</td>\n",
       "      <td>0</td>\n",
       "      <td>NaN</td>\n",
       "      <td>NaN</td>\n",
       "      <td>NaN</td>\n",
       "      <td>Loop</td>\n",
       "      <td>NaN</td>\n",
       "      <td>0</td>\n",
       "      <td>1</td>\n",
       "    </tr>\n",
       "  </tbody>\n",
       "</table>\n",
       "</div>"
      ],
      "text/plain": [
       "                 trip_id  route_id     service_id  direction_id block_id  \\\n",
       "0  Logan-22-Weekday-trip  Logan-22  Logan-Weekday             0      NaN   \n",
       "1  Logan-22-Weekend-trip  Logan-22  Logan-Weekend             0      NaN   \n",
       "2  Logan-33-Weekday-trip  Logan-33  Logan-Weekday             0      NaN   \n",
       "3  Logan-33-Weekend-trip  Logan-33  Logan-Weekend             0      NaN   \n",
       "4  Logan-55-Weekday-trip  Logan-55  Logan-Weekday             0      NaN   \n",
       "\n",
       "  shape_id  trip_type trip_headsign trip_short_name  bikes_allowed  \\\n",
       "0      NaN        NaN          Loop             NaN              0   \n",
       "1      NaN        NaN          Loop             NaN              0   \n",
       "2      NaN        NaN          Loop             NaN              0   \n",
       "3      NaN        NaN          Loop             NaN              0   \n",
       "4      NaN        NaN          Loop             NaN              0   \n",
       "\n",
       "   wheelchair_accessible  \n",
       "0                      1  \n",
       "1                      1  \n",
       "2                      1  \n",
       "3                      1  \n",
       "4                      1  "
      ]
     },
     "execution_count": 155,
     "metadata": {},
     "output_type": "execute_result"
    }
   ],
   "source": [
    "trips.head()"
   ]
  },
  {
   "cell_type": "code",
   "execution_count": 156,
   "metadata": {},
   "outputs": [
    {
     "data": {
      "text/html": [
       "<div>\n",
       "<style>\n",
       "    .dataframe thead tr:only-child th {\n",
       "        text-align: right;\n",
       "    }\n",
       "\n",
       "    .dataframe thead th {\n",
       "        text-align: left;\n",
       "    }\n",
       "\n",
       "    .dataframe tbody tr th {\n",
       "        vertical-align: top;\n",
       "    }\n",
       "</style>\n",
       "<table border=\"1\" class=\"dataframe\">\n",
       "  <thead>\n",
       "    <tr style=\"text-align: right;\">\n",
       "      <th></th>\n",
       "      <th>route_id</th>\n",
       "      <th>trip_id</th>\n",
       "      <th>trip_headsign</th>\n",
       "    </tr>\n",
       "  </thead>\n",
       "  <tbody>\n",
       "    <tr>\n",
       "      <th>0</th>\n",
       "      <td>Logan-22</td>\n",
       "      <td>Logan-22-Weekday-trip</td>\n",
       "      <td>Loop</td>\n",
       "    </tr>\n",
       "    <tr>\n",
       "      <th>1</th>\n",
       "      <td>Logan-22</td>\n",
       "      <td>Logan-22-Weekend-trip</td>\n",
       "      <td>Loop</td>\n",
       "    </tr>\n",
       "    <tr>\n",
       "      <th>2</th>\n",
       "      <td>Logan-33</td>\n",
       "      <td>Logan-33-Weekday-trip</td>\n",
       "      <td>Loop</td>\n",
       "    </tr>\n",
       "    <tr>\n",
       "      <th>3</th>\n",
       "      <td>Logan-33</td>\n",
       "      <td>Logan-33-Weekend-trip</td>\n",
       "      <td>Loop</td>\n",
       "    </tr>\n",
       "    <tr>\n",
       "      <th>4</th>\n",
       "      <td>Logan-55</td>\n",
       "      <td>Logan-55-Weekday-trip</td>\n",
       "      <td>Loop</td>\n",
       "    </tr>\n",
       "  </tbody>\n",
       "</table>\n",
       "</div>"
      ],
      "text/plain": [
       "   route_id                trip_id trip_headsign\n",
       "0  Logan-22  Logan-22-Weekday-trip          Loop\n",
       "1  Logan-22  Logan-22-Weekend-trip          Loop\n",
       "2  Logan-33  Logan-33-Weekday-trip          Loop\n",
       "3  Logan-33  Logan-33-Weekend-trip          Loop\n",
       "4  Logan-55  Logan-55-Weekday-trip          Loop"
      ]
     },
     "execution_count": 156,
     "metadata": {},
     "output_type": "execute_result"
    }
   ],
   "source": [
    "trips = trips.loc[:, ['route_id', 'trip_id', 'trip_headsign']]\n",
    "trips.head()"
   ]
  },
  {
   "cell_type": "code",
   "execution_count": 157,
   "metadata": {},
   "outputs": [
    {
     "data": {
      "text/html": [
       "<div>\n",
       "<style>\n",
       "    .dataframe thead tr:only-child th {\n",
       "        text-align: right;\n",
       "    }\n",
       "\n",
       "    .dataframe thead th {\n",
       "        text-align: left;\n",
       "    }\n",
       "\n",
       "    .dataframe tbody tr th {\n",
       "        vertical-align: top;\n",
       "    }\n",
       "</style>\n",
       "<table border=\"1\" class=\"dataframe\">\n",
       "  <thead>\n",
       "    <tr style=\"text-align: right;\">\n",
       "      <th></th>\n",
       "      <th>trip_id</th>\n",
       "      <th>stop_id</th>\n",
       "      <th>stop_sequence</th>\n",
       "      <th>arrival_time</th>\n",
       "      <th>departure_time</th>\n",
       "      <th>stop_headsign</th>\n",
       "      <th>pickup_type</th>\n",
       "      <th>drop_off_type</th>\n",
       "      <th>shape_dist_traveled</th>\n",
       "      <th>timepoint</th>\n",
       "      <th>route_id</th>\n",
       "      <th>trip_headsign</th>\n",
       "    </tr>\n",
       "  </thead>\n",
       "  <tbody>\n",
       "    <tr>\n",
       "      <th>0</th>\n",
       "      <td>Logan-22-Weekday-trip</td>\n",
       "      <td>Logan-Subway</td>\n",
       "      <td>1</td>\n",
       "      <td>08:00:00</td>\n",
       "      <td>08:00:00</td>\n",
       "      <td>NaN</td>\n",
       "      <td>0</td>\n",
       "      <td>1</td>\n",
       "      <td>NaN</td>\n",
       "      <td>1.0</td>\n",
       "      <td>Logan-22</td>\n",
       "      <td>Loop</td>\n",
       "    </tr>\n",
       "    <tr>\n",
       "      <th>1</th>\n",
       "      <td>Logan-22-Weekday-trip</td>\n",
       "      <td>Logan-RentalCarCenter</td>\n",
       "      <td>2</td>\n",
       "      <td>08:04:00</td>\n",
       "      <td>08:04:00</td>\n",
       "      <td>NaN</td>\n",
       "      <td>0</td>\n",
       "      <td>0</td>\n",
       "      <td>NaN</td>\n",
       "      <td>1.0</td>\n",
       "      <td>Logan-22</td>\n",
       "      <td>Loop</td>\n",
       "    </tr>\n",
       "    <tr>\n",
       "      <th>2</th>\n",
       "      <td>Logan-22-Weekday-trip</td>\n",
       "      <td>Logan-A</td>\n",
       "      <td>3</td>\n",
       "      <td>08:09:00</td>\n",
       "      <td>08:09:00</td>\n",
       "      <td>NaN</td>\n",
       "      <td>0</td>\n",
       "      <td>0</td>\n",
       "      <td>NaN</td>\n",
       "      <td>1.0</td>\n",
       "      <td>Logan-22</td>\n",
       "      <td>Loop</td>\n",
       "    </tr>\n",
       "    <tr>\n",
       "      <th>3</th>\n",
       "      <td>Logan-22-Weekday-trip</td>\n",
       "      <td>Logan-B</td>\n",
       "      <td>4</td>\n",
       "      <td>08:12:00</td>\n",
       "      <td>08:12:00</td>\n",
       "      <td>NaN</td>\n",
       "      <td>0</td>\n",
       "      <td>0</td>\n",
       "      <td>NaN</td>\n",
       "      <td>1.0</td>\n",
       "      <td>Logan-22</td>\n",
       "      <td>Loop</td>\n",
       "    </tr>\n",
       "    <tr>\n",
       "      <th>4</th>\n",
       "      <td>Logan-22-Weekday-trip</td>\n",
       "      <td>Logan-Subway</td>\n",
       "      <td>5</td>\n",
       "      <td>08:17:00</td>\n",
       "      <td>08:17:00</td>\n",
       "      <td>NaN</td>\n",
       "      <td>1</td>\n",
       "      <td>0</td>\n",
       "      <td>NaN</td>\n",
       "      <td>1.0</td>\n",
       "      <td>Logan-22</td>\n",
       "      <td>Loop</td>\n",
       "    </tr>\n",
       "  </tbody>\n",
       "</table>\n",
       "</div>"
      ],
      "text/plain": [
       "                 trip_id                stop_id  stop_sequence arrival_time  \\\n",
       "0  Logan-22-Weekday-trip           Logan-Subway              1     08:00:00   \n",
       "1  Logan-22-Weekday-trip  Logan-RentalCarCenter              2     08:04:00   \n",
       "2  Logan-22-Weekday-trip                Logan-A              3     08:09:00   \n",
       "3  Logan-22-Weekday-trip                Logan-B              4     08:12:00   \n",
       "4  Logan-22-Weekday-trip           Logan-Subway              5     08:17:00   \n",
       "\n",
       "  departure_time  stop_headsign  pickup_type  drop_off_type  \\\n",
       "0       08:00:00            NaN            0              1   \n",
       "1       08:04:00            NaN            0              0   \n",
       "2       08:09:00            NaN            0              0   \n",
       "3       08:12:00            NaN            0              0   \n",
       "4       08:17:00            NaN            1              0   \n",
       "\n",
       "   shape_dist_traveled  timepoint  route_id trip_headsign  \n",
       "0                  NaN        1.0  Logan-22          Loop  \n",
       "1                  NaN        1.0  Logan-22          Loop  \n",
       "2                  NaN        1.0  Logan-22          Loop  \n",
       "3                  NaN        1.0  Logan-22          Loop  \n",
       "4                  NaN        1.0  Logan-22          Loop  "
      ]
     },
     "execution_count": 157,
     "metadata": {},
     "output_type": "execute_result"
    }
   ],
   "source": [
    "route_stops = stop_times.merge(trips, on='trip_id', how='inner')\n",
    "route_stops.head()\n",
    "#route_stops['route_id'].unique()"
   ]
  },
  {
   "cell_type": "markdown",
   "metadata": {},
   "source": [
    "These are all the routes that trips are associated with in the stop_times table"
   ]
  },
  {
   "cell_type": "code",
   "execution_count": 158,
   "metadata": {},
   "outputs": [
    {
     "data": {
      "text/plain": [
       "351         360\n",
       "8993        333\n",
       "434         264\n",
       "3738        231\n",
       "Boat-F4     224\n",
       "171         160\n",
       "3233         64\n",
       "9701         30\n",
       "9702         22\n",
       "Logan-55     22\n",
       "Logan-66     22\n",
       "9703         20\n",
       "195          15\n",
       "Logan-33     14\n",
       "Logan-22     14\n",
       "Name: route_id, dtype: int64"
      ]
     },
     "execution_count": 158,
     "metadata": {},
     "output_type": "execute_result"
    }
   ],
   "source": [
    "route_stops['route_id'].value_counts()[-15:]"
   ]
  },
  {
   "cell_type": "markdown",
   "metadata": {},
   "source": [
    "We can see how many trips there are per route"
   ]
  },
  {
   "cell_type": "code",
   "execution_count": 159,
   "metadata": {},
   "outputs": [
    {
     "data": {
      "text/html": [
       "<div>\n",
       "<style>\n",
       "    .dataframe thead tr:only-child th {\n",
       "        text-align: right;\n",
       "    }\n",
       "\n",
       "    .dataframe thead th {\n",
       "        text-align: left;\n",
       "    }\n",
       "\n",
       "    .dataframe tbody tr th {\n",
       "        vertical-align: top;\n",
       "    }\n",
       "</style>\n",
       "<table border=\"1\" class=\"dataframe\">\n",
       "  <thead>\n",
       "    <tr style=\"text-align: right;\">\n",
       "      <th></th>\n",
       "      <th>trip_id</th>\n",
       "      <th>stop_id</th>\n",
       "      <th>stop_sequence</th>\n",
       "      <th>route_id</th>\n",
       "    </tr>\n",
       "  </thead>\n",
       "  <tbody>\n",
       "    <tr>\n",
       "      <th>0</th>\n",
       "      <td>Logan-22-Weekday-trip</td>\n",
       "      <td>Logan-Subway</td>\n",
       "      <td>1</td>\n",
       "      <td>Logan-22</td>\n",
       "    </tr>\n",
       "    <tr>\n",
       "      <th>1</th>\n",
       "      <td>Logan-22-Weekday-trip</td>\n",
       "      <td>Logan-RentalCarCenter</td>\n",
       "      <td>2</td>\n",
       "      <td>Logan-22</td>\n",
       "    </tr>\n",
       "    <tr>\n",
       "      <th>2</th>\n",
       "      <td>Logan-22-Weekday-trip</td>\n",
       "      <td>Logan-A</td>\n",
       "      <td>3</td>\n",
       "      <td>Logan-22</td>\n",
       "    </tr>\n",
       "    <tr>\n",
       "      <th>3</th>\n",
       "      <td>Logan-22-Weekday-trip</td>\n",
       "      <td>Logan-B</td>\n",
       "      <td>4</td>\n",
       "      <td>Logan-22</td>\n",
       "    </tr>\n",
       "    <tr>\n",
       "      <th>4</th>\n",
       "      <td>Logan-22-Weekday-trip</td>\n",
       "      <td>Logan-Subway</td>\n",
       "      <td>5</td>\n",
       "      <td>Logan-22</td>\n",
       "    </tr>\n",
       "  </tbody>\n",
       "</table>\n",
       "</div>"
      ],
      "text/plain": [
       "                 trip_id                stop_id  stop_sequence  route_id\n",
       "0  Logan-22-Weekday-trip           Logan-Subway              1  Logan-22\n",
       "1  Logan-22-Weekday-trip  Logan-RentalCarCenter              2  Logan-22\n",
       "2  Logan-22-Weekday-trip                Logan-A              3  Logan-22\n",
       "3  Logan-22-Weekday-trip                Logan-B              4  Logan-22\n",
       "4  Logan-22-Weekday-trip           Logan-Subway              5  Logan-22"
      ]
     },
     "execution_count": 159,
     "metadata": {},
     "output_type": "execute_result"
    }
   ],
   "source": [
    "route_stops = route_stops.loc[:, ['trip_id', 'stop_id', 'stop_sequence', 'route_id']]\n",
    "route_stops.head()"
   ]
  },
  {
   "cell_type": "code",
   "execution_count": 160,
   "metadata": {},
   "outputs": [
    {
     "name": "stdout",
     "output_type": "stream",
     "text": [
      "There are 72342 trips\n"
     ]
    }
   ],
   "source": [
    "total_trips = route_stops['trip_id'].value_counts().index\n",
    "print('There are {} trips'.format(len(total_trips)))"
   ]
  },
  {
   "cell_type": "code",
   "execution_count": 161,
   "metadata": {},
   "outputs": [
    {
     "data": {
      "text/plain": [
       "Index(['35065445', '35284958', '35065449', '35065451', '35065459', '35065463',\n",
       "       '35065461', '35065443', '35065455', '35065457',\n",
       "       ...\n",
       "       'Boat-F4-1315-Charlestown-Weekend', 'Boat-F1-1330-Rowes-SummerWeekday',\n",
       "       'Boat-F1-1100-Hingham-SummerWeekday', 'Boat-F1-0845-Hingham-Weekday',\n",
       "       'Boat-F4-1245-Charlestown-Weekend',\n",
       "       'Boat-F1-2030-Hingham-SummerWeekday', 'CR-Weekday-Spring-17-289',\n",
       "       'Boat-F1-1940-Hingham-Weekday', 'Boat-F1-1730-Long-Weekday',\n",
       "       'Boat-F1-1705-Hingham-Weekday'],\n",
       "      dtype='object', length=72342)"
      ]
     },
     "execution_count": 161,
     "metadata": {},
     "output_type": "execute_result"
    }
   ],
   "source": [
    "total_trips"
   ]
  },
  {
   "cell_type": "markdown",
   "metadata": {},
   "source": [
    "## Robust Way of Obtaining Patterns\n",
    "\n",
    "The following cells display code that is used to obtain the unique trip patterns that exist under a particular target route. It is dubbed 'Robust', since it involves a thorough method that is sure to obtain all the patterns and label each trip with the appropiate patter id. The steps are as follows\n",
    "<ol>\n",
    "    <li>obtain a list of trips within a target route</li>\n",
    "    <li>for every trip obtain a python tuple of stops</li>\n",
    "    <li>add this tuple to a grand set of stops </li>\n",
    "    <li>use this tuple as a key in a dictionary (only if it is not already)</li>\n",
    "</ol>\n",
    "Note that by using a set we take care of the case where different iterations can have the same tuple of stops."
   ]
  },
  {
   "cell_type": "code",
   "execution_count": 162,
   "metadata": {},
   "outputs": [
    {
     "data": {
      "text/html": [
       "<div>\n",
       "<style>\n",
       "    .dataframe thead tr:only-child th {\n",
       "        text-align: right;\n",
       "    }\n",
       "\n",
       "    .dataframe thead th {\n",
       "        text-align: left;\n",
       "    }\n",
       "\n",
       "    .dataframe tbody tr th {\n",
       "        vertical-align: top;\n",
       "    }\n",
       "</style>\n",
       "<table border=\"1\" class=\"dataframe\">\n",
       "  <thead>\n",
       "    <tr style=\"text-align: right;\">\n",
       "      <th></th>\n",
       "      <th>trip_id</th>\n",
       "      <th>stop_id</th>\n",
       "      <th>stop_sequence</th>\n",
       "      <th>route_id</th>\n",
       "    </tr>\n",
       "  </thead>\n",
       "  <tbody>\n",
       "    <tr>\n",
       "      <th>0</th>\n",
       "      <td>35058168</td>\n",
       "      <td>4807</td>\n",
       "      <td>1</td>\n",
       "      <td>448</td>\n",
       "    </tr>\n",
       "    <tr>\n",
       "      <th>1</th>\n",
       "      <td>35058168</td>\n",
       "      <td>4832</td>\n",
       "      <td>2</td>\n",
       "      <td>448</td>\n",
       "    </tr>\n",
       "    <tr>\n",
       "      <th>2</th>\n",
       "      <td>35058168</td>\n",
       "      <td>4834</td>\n",
       "      <td>3</td>\n",
       "      <td>448</td>\n",
       "    </tr>\n",
       "    <tr>\n",
       "      <th>3</th>\n",
       "      <td>35058168</td>\n",
       "      <td>14836</td>\n",
       "      <td>6</td>\n",
       "      <td>448</td>\n",
       "    </tr>\n",
       "    <tr>\n",
       "      <th>4</th>\n",
       "      <td>35058168</td>\n",
       "      <td>4835</td>\n",
       "      <td>4</td>\n",
       "      <td>448</td>\n",
       "    </tr>\n",
       "  </tbody>\n",
       "</table>\n",
       "</div>"
      ],
      "text/plain": [
       "    trip_id stop_id  stop_sequence route_id\n",
       "0  35058168    4807              1      448\n",
       "1  35058168    4832              2      448\n",
       "2  35058168    4834              3      448\n",
       "3  35058168   14836              6      448\n",
       "4  35058168    4835              4      448"
      ]
     },
     "execution_count": 162,
     "metadata": {},
     "output_type": "execute_result"
    }
   ],
   "source": [
    "# lets focus on just a subset of route_stops\n",
    "# in particular lets focus on a route instead\n",
    "# of all routes\n",
    "targ_route = '448'\n",
    "def get_targ_trips(targ_route, route_stops):\n",
    "    return route_stops[route_stops['route_id'] == targ_route].copy().reset_index(drop=True)\n",
    "targ_trips = get_targ_trips(targ_route, route_stops)\n",
    "targ_trips.head()"
   ]
  },
  {
   "cell_type": "code",
   "execution_count": 163,
   "metadata": {},
   "outputs": [
    {
     "data": {
      "text/plain": [
       "array(['35058168', '35058169', '35058204', '35058279', '35058280',\n",
       "       '35070565', '35070566', '35070601', '35070676', '35070677'], dtype=object)"
      ]
     },
     "execution_count": 163,
     "metadata": {},
     "output_type": "execute_result"
    }
   ],
   "source": [
    "# display all the trips that are under this route\n",
    "route_trips = targ_trips['trip_id'].unique()\n",
    "route_trips"
   ]
  },
  {
   "cell_type": "code",
   "execution_count": 164,
   "metadata": {},
   "outputs": [
    {
     "data": {
      "text/plain": [
       "dict_values(['448A', '448C', '448B'])"
      ]
     },
     "execution_count": 164,
     "metadata": {},
     "output_type": "execute_result"
    }
   ],
   "source": [
    "\n",
    "\n",
    "# get_trip_pats will return a mapping \n",
    "# of the form stops: pattern_name where\n",
    "# stops is a tuple that consists of the \n",
    "# stop_ids a trip travels through and\n",
    "# pattern_name is the name of the pattern\n",
    "def get_trip_pts(route_trips, targ_trips, route, debug = False):\n",
    "    trip_patterns_dict = {}\n",
    "    alph_iter = iter(range(ord('A'), ord('Z')))\n",
    "    trip_patterns = set()\n",
    "\n",
    "    for tr in route_trips:\n",
    "        stops = targ_trips[targ_trips['trip_id'] == tr].sort_values('stop_sequence')['stop_id']\n",
    "        stops = tuple(stops)\n",
    "        if debug:\n",
    "            print('{}\\n'.format(tr))\n",
    "            print(tuple(stops))\n",
    "        trip_patterns.add(stops)\n",
    "        if stops not in trip_patterns_dict:\n",
    "            trip_patterns_dict[stops] = '{}{}'.format(route, chr(next(alph_iter)))\n",
    "    \n",
    "    return trip_patterns, trip_patterns_dict\n",
    "\n",
    "trp_pat, trp_pat_dict = get_trip_pts(route_trips, targ_trips, targ_route)\n",
    "#trip_patterns_dict = {name: trp for trp, name in trip_patterns_dict.items()}\n",
    "#trip_patterns_dict['448A'][:10]\n",
    "trp_pat_dict.values()"
   ]
  },
  {
   "cell_type": "code",
   "execution_count": 165,
   "metadata": {},
   "outputs": [
    {
     "data": {
      "text/plain": [
       "array(['448A', '448B', '448C'], dtype=object)"
      ]
     },
     "execution_count": 165,
     "metadata": {},
     "output_type": "execute_result"
    }
   ],
   "source": [
    "# make a new column for pattern id\n",
    "targ_trips['pattern_id'] = ''\n",
    "\n",
    "# fill_trp_pat will fill in the pattern_id column\n",
    "# of all the rows in targ_trips with a matching trip_id\n",
    "def fill_trp_pat(route_trips, targ_trips, trip_patterns_dict):\n",
    "    # iterate through every trip\n",
    "    for tr in route_trips:\n",
    "        # find the rows that have a matching trip_id\n",
    "        match_trps = targ_trips[targ_trips['trip_id'] == tr]\n",
    "        # get the tuple that will contain the stops for this trip\n",
    "        stops = tuple(match_trps.sort_values('stop_sequence')['stop_id'])\n",
    "        # use the dictionary to get the pattern name based on the stops\n",
    "        pat_name = trip_patterns_dict[stops]    \n",
    "        # fill in all the rows with the appropiate pattern name\n",
    "        targ_trips.loc[targ_trips['trip_id'] == tr, 'pattern_id'] = pat_name\n",
    "        \n",
    "fill_trp_pat(route_trips, targ_trips, trp_pat_dict)\n",
    "targ_trips['pattern_id'].unique()"
   ]
  },
  {
   "cell_type": "code",
   "execution_count": 166,
   "metadata": {},
   "outputs": [
    {
     "data": {
      "text/plain": [
       "pattern_id\n",
       "448A    [35058168, 35058169, 35070565, 35070566]\n",
       "448B                        [35058204, 35070601]\n",
       "448C    [35058279, 35058280, 35070676, 35070677]\n",
       "Name: trip_id, dtype: object"
      ]
     },
     "execution_count": 166,
     "metadata": {},
     "output_type": "execute_result"
    }
   ],
   "source": [
    "gp = targ_trips.groupby('pattern_id')\n",
    "gp['trip_id'].unique()"
   ]
  },
  {
   "cell_type": "markdown",
   "metadata": {},
   "source": [
    "Here we can see that we only used the pattern names that we generated as well as the trip_ids that belong to each pattern."
   ]
  },
  {
   "cell_type": "code",
   "execution_count": 168,
   "metadata": {},
   "outputs": [
    {
     "name": "stdout",
     "output_type": "stream",
     "text": [
      "pattern_id\n",
      "448A    [35058168, 35058169, 35070565, 35070566]\n",
      "448B                        [35058204, 35070601]\n",
      "448C    [35058279, 35058280, 35070676, 35070677]\n",
      "Name: trip_id, dtype: object\n",
      "pattern_id\n",
      "434A    [35058051, 35070448]\n",
      "434B    [35058052, 35070449]\n",
      "Name: trip_id, dtype: object\n",
      "pattern_id\n",
      "3738A    [35144705, 35144734, 35144756]\n",
      "3738B    [35144716, 35144727, 35144747]\n",
      "Name: trip_id, dtype: object\n"
     ]
    }
   ],
   "source": [
    "targ_routes = ['448', '434', '3738']\n",
    "\n",
    "for route in targ_routes:\n",
    "    targ_trps = get_targ_trips(route, route_stops)\n",
    "    route_trips = targ_trps['trip_id'].unique()\n",
    "    pat_set, pat_dict = get_trip_pts(route_trips, targ_trps, route)\n",
    "    fill_trp_pat(route_trips, targ_trps, pat_dict)\n",
    "    gp = targ_trps.groupby('pattern_id')\n",
    "    print(gp['trip_id'].unique())"
   ]
  },
  {
   "cell_type": "markdown",
   "metadata": {},
   "source": [
    "## Obtain Patterns with Headsign\n",
    "\n",
    "The following cells attempt to reach the same results as the Robust method. Unfortunately it looks like we cannot rely on the headsign to give us an accurate distinction between different patterns."
   ]
  },
  {
   "cell_type": "code",
   "execution_count": 126,
   "metadata": {},
   "outputs": [
    {
     "data": {
      "text/html": [
       "<div>\n",
       "<style>\n",
       "    .dataframe thead tr:only-child th {\n",
       "        text-align: right;\n",
       "    }\n",
       "\n",
       "    .dataframe thead th {\n",
       "        text-align: left;\n",
       "    }\n",
       "\n",
       "    .dataframe tbody tr th {\n",
       "        vertical-align: top;\n",
       "    }\n",
       "</style>\n",
       "<table border=\"1\" class=\"dataframe\">\n",
       "  <thead>\n",
       "    <tr style=\"text-align: right;\">\n",
       "      <th></th>\n",
       "      <th>route_id</th>\n",
       "      <th>trip_id</th>\n",
       "      <th>trip_headsign</th>\n",
       "    </tr>\n",
       "  </thead>\n",
       "  <tbody>\n",
       "    <tr>\n",
       "      <th>28492</th>\n",
       "      <td>448</td>\n",
       "      <td>35058168</td>\n",
       "      <td>Downtown Express via Airport and Paradise Rd</td>\n",
       "    </tr>\n",
       "    <tr>\n",
       "      <th>28493</th>\n",
       "      <td>448</td>\n",
       "      <td>35058169</td>\n",
       "      <td>Downtown Express via Airport and Paradise Rd</td>\n",
       "    </tr>\n",
       "    <tr>\n",
       "      <th>30704</th>\n",
       "      <td>448</td>\n",
       "      <td>35070565</td>\n",
       "      <td>Downtown Express via Airport and Paradise Rd</td>\n",
       "    </tr>\n",
       "    <tr>\n",
       "      <th>30705</th>\n",
       "      <td>448</td>\n",
       "      <td>35070566</td>\n",
       "      <td>Downtown Express via Airport and Paradise Rd</td>\n",
       "    </tr>\n",
       "  </tbody>\n",
       "</table>\n",
       "</div>"
      ],
      "text/plain": [
       "      route_id   trip_id                                 trip_headsign\n",
       "28492      448  35058168  Downtown Express via Airport and Paradise Rd\n",
       "28493      448  35058169  Downtown Express via Airport and Paradise Rd\n",
       "30704      448  35070565  Downtown Express via Airport and Paradise Rd\n",
       "30705      448  35070566  Downtown Express via Airport and Paradise Rd"
      ]
     },
     "execution_count": 126,
     "metadata": {},
     "output_type": "execute_result"
    }
   ],
   "source": [
    "pat_448A = gp['trip_id'].unique()['448A']\n",
    "trips[(trips['trip_id'] == '35058168') |  (trips['trip_id'] == '35058169') | (trips['trip_id'] == '35070565') | (trips['trip_id'] == '35070566')]"
   ]
  },
  {
   "cell_type": "markdown",
   "metadata": {},
   "source": [
    "It looks like all trips from 448A have the same headsign, which is good!"
   ]
  },
  {
   "cell_type": "code",
   "execution_count": 128,
   "metadata": {},
   "outputs": [
    {
     "data": {
      "text/html": [
       "<div>\n",
       "<style>\n",
       "    .dataframe thead tr:only-child th {\n",
       "        text-align: right;\n",
       "    }\n",
       "\n",
       "    .dataframe thead th {\n",
       "        text-align: left;\n",
       "    }\n",
       "\n",
       "    .dataframe tbody tr th {\n",
       "        vertical-align: top;\n",
       "    }\n",
       "</style>\n",
       "<table border=\"1\" class=\"dataframe\">\n",
       "  <thead>\n",
       "    <tr style=\"text-align: right;\">\n",
       "      <th></th>\n",
       "      <th>route_id</th>\n",
       "      <th>trip_id</th>\n",
       "      <th>trip_headsign</th>\n",
       "    </tr>\n",
       "  </thead>\n",
       "  <tbody>\n",
       "    <tr>\n",
       "      <th>28528</th>\n",
       "      <td>448</td>\n",
       "      <td>35058204</td>\n",
       "      <td>Marblehead via Paradise Rd &amp; Central Sq (Express)</td>\n",
       "    </tr>\n",
       "    <tr>\n",
       "      <th>30740</th>\n",
       "      <td>448</td>\n",
       "      <td>35070601</td>\n",
       "      <td>Marblehead via Paradise Rd &amp; Central Sq (Express)</td>\n",
       "    </tr>\n",
       "  </tbody>\n",
       "</table>\n",
       "</div>"
      ],
      "text/plain": [
       "      route_id   trip_id                                      trip_headsign\n",
       "28528      448  35058204  Marblehead via Paradise Rd & Central Sq (Express)\n",
       "30740      448  35070601  Marblehead via Paradise Rd & Central Sq (Express)"
      ]
     },
     "execution_count": 128,
     "metadata": {},
     "output_type": "execute_result"
    }
   ],
   "source": [
    "trips[(trips['trip_id'] == '35058204') | (trips['trip_id'] == '35070601')]"
   ]
  },
  {
   "cell_type": "markdown",
   "metadata": {},
   "source": [
    "All the trips in 448B also share the same headsign and differ from the headsign seen in 448A"
   ]
  },
  {
   "cell_type": "code",
   "execution_count": 140,
   "metadata": {},
   "outputs": [
    {
     "data": {
      "text/html": [
       "<div>\n",
       "<style>\n",
       "    .dataframe thead tr:only-child th {\n",
       "        text-align: right;\n",
       "    }\n",
       "\n",
       "    .dataframe thead th {\n",
       "        text-align: left;\n",
       "    }\n",
       "\n",
       "    .dataframe tbody tr th {\n",
       "        vertical-align: top;\n",
       "    }\n",
       "</style>\n",
       "<table border=\"1\" class=\"dataframe\">\n",
       "  <thead>\n",
       "    <tr style=\"text-align: right;\">\n",
       "      <th></th>\n",
       "      <th>route_id</th>\n",
       "      <th>trip_id</th>\n",
       "      <th>trip_headsign</th>\n",
       "    </tr>\n",
       "  </thead>\n",
       "  <tbody>\n",
       "    <tr>\n",
       "      <th>28603</th>\n",
       "      <td>448</td>\n",
       "      <td>35058279</td>\n",
       "      <td>Marblehead via Paradise Rd &amp; Central Sq (Express)</td>\n",
       "    </tr>\n",
       "    <tr>\n",
       "      <th>28604</th>\n",
       "      <td>448</td>\n",
       "      <td>35058280</td>\n",
       "      <td>Marblehead via Paradise Rd &amp; Central Sq (Express)</td>\n",
       "    </tr>\n",
       "    <tr>\n",
       "      <th>30815</th>\n",
       "      <td>448</td>\n",
       "      <td>35070676</td>\n",
       "      <td>Marblehead via Paradise Rd &amp; Central Sq (Express)</td>\n",
       "    </tr>\n",
       "    <tr>\n",
       "      <th>30816</th>\n",
       "      <td>448</td>\n",
       "      <td>35070677</td>\n",
       "      <td>Marblehead via Paradise Rd &amp; Central Sq (Express)</td>\n",
       "    </tr>\n",
       "  </tbody>\n",
       "</table>\n",
       "</div>"
      ],
      "text/plain": [
       "      route_id   trip_id                                      trip_headsign\n",
       "28603      448  35058279  Marblehead via Paradise Rd & Central Sq (Express)\n",
       "28604      448  35058280  Marblehead via Paradise Rd & Central Sq (Express)\n",
       "30815      448  35070676  Marblehead via Paradise Rd & Central Sq (Express)\n",
       "30816      448  35070677  Marblehead via Paradise Rd & Central Sq (Express)"
      ]
     },
     "execution_count": 140,
     "metadata": {},
     "output_type": "execute_result"
    }
   ],
   "source": [
    "trips[(trips['trip_id'] =='35058279') | (trips['trip_id'] =='35058280') | (trips['trip_id'] == '35070676') | (trips['trip_id'] == '35070677')]"
   ]
  },
  {
   "cell_type": "markdown",
   "metadata": {},
   "source": [
    "It looks like all the trips from 448C share the same headsign as those from 448B. Perhaps the Robust method does not yield the correct list of patterns?"
   ]
  },
  {
   "cell_type": "code",
   "execution_count": 134,
   "metadata": {},
   "outputs": [
    {
     "data": {
      "text/plain": [
       "{'24717',\n",
       " '4709',\n",
       " '4717',\n",
       " '4727',\n",
       " '4728',\n",
       " '4730',\n",
       " '4731',\n",
       " '4732',\n",
       " '4735',\n",
       " '4736',\n",
       " '4738',\n",
       " '4739',\n",
       " '4741',\n",
       " '4742',\n",
       " '4743',\n",
       " '4744',\n",
       " '4745',\n",
       " '4746',\n",
       " '4747',\n",
       " '4854',\n",
       " '48541',\n",
       " '4855',\n",
       " '4856'}"
      ]
     },
     "execution_count": 134,
     "metadata": {},
     "output_type": "execute_result"
    }
   ],
   "source": [
    "pat_name_dict = {name:stops for stops, name in trp_pat_dict.items()}\n",
    "set(pat_name_dict['448B']) - set(pat_name_dict['448C'])"
   ]
  },
  {
   "cell_type": "code",
   "execution_count": 136,
   "metadata": {},
   "outputs": [
    {
     "data": {
      "text/plain": [
       "False"
      ]
     },
     "execution_count": 136,
     "metadata": {},
     "output_type": "execute_result"
    }
   ],
   "source": [
    "'4709' in set(pat_name_dict['448C'])"
   ]
  },
  {
   "cell_type": "markdown",
   "metadata": {},
   "source": [
    "It turns out that there is a difference between the stops that 448B and 448C visit! Therefore we cannot rely on the headsign as an alternative to determining patterns"
   ]
  },
  {
   "cell_type": "code",
   "execution_count": null,
   "metadata": {
    "collapsed": true
   },
   "outputs": [],
   "source": []
  }
 ],
 "metadata": {
  "kernelspec": {
   "display_name": "Python [conda root]",
   "language": "python",
   "name": "conda-root-py"
  },
  "language_info": {
   "codemirror_mode": {
    "name": "ipython",
    "version": 3
   },
   "file_extension": ".py",
   "mimetype": "text/x-python",
   "name": "python",
   "nbconvert_exporter": "python",
   "pygments_lexer": "ipython3",
   "version": "3.5.3"
  }
 },
 "nbformat": 4,
 "nbformat_minor": 2
}
